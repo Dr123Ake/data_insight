{
 "cells": [
  {
   "cell_type": "markdown",
   "metadata": {},
   "source": [
    "# Demand Forecasting Analysis\n",
    "\n",
    "This notebook demonstrates demand forecasting capabilities using various time series models.\n",
    "\n",
    "## Key Features:\n",
    "- Time series data preparation\n",
    "- Multiple forecasting models (Prophet, Linear Trend, Seasonal Naive)\n",
    "- Model accuracy comparison\n",
    "- Business insights generation\n",
    "- Category-wise forecasting"
   ]
  },
  {
   "cell_type": "code",
   "execution_count": null,
   "metadata": {},
   "outputs": [],
   "source": [
    "import pandas as pd\n",
    "import numpy as np\n",
    "import plotly.graph_objects as go\n",
    "import plotly.express as px\n",
    "from plotly.subplots import make_subplots\n",
    "import sys\n",
    "import os\n",
    "\n",
    "# Add src directory to path\n",
    "sys.path.append('../src')\n",
    "\n",
    "from forecasting import DemandForecaster"
   ]
  },
  {
   "cell_type": "markdown",
   "metadata": {},
   "source": [
    "## 1. Load and Prepare Data"
   ]
  },
  {
   "cell_type": "code",
   "execution_count": null,
   "metadata": {},
   "outputs": [],
   "source": [
    "# Load the processed data\n",
    "df = pd.read_csv('../data/processed_sales_data.csv')\n",
    "df['date'] = pd.to_datetime(df['date'])\n",
    "\n",
    "print(f\"Data shape: {df.shape}\")\n",
    "print(f\"Date range: {df['date'].min()} to {df['date'].max()}\")\n",
    "print(f\"Total revenue: ${df['total_amount'].sum():,.2f}\")\n",
    "\n",
    "# Prepare time series data\n",
    "ts_data = df.groupby('date')['total_amount'].sum().reset_index()\n",
    "ts_data.columns = ['ds', 'y']\n",
    "\n",
    "print(f\"\\nTime series data prepared: {len(ts_data)} days of data\")"
   ]
  },
  {
   "cell_type": "markdown",
   "metadata": {},
   "source": [
    "## 2. Exploratory Time Series Analysis"
   ]
  },
  {
   "cell_type": "code",
   "execution_count": null,
   "metadata": {},
   "outputs": [],
   "source": [
    "# Initialize forecaster\n",
    "forecaster = DemandForecaster()\n",
    "\n",
    "# Analyze trends\n",
    "trend_analysis = forecaster.analyze_trends(ts_data)\n",
    "\n",
    "print(\"=== TREND ANALYSIS ===\")\n",
    "for metric, analysis in trend_analysis.items():\n",
    "    print(f\"\\n📈 {metric.upper()}:\")\n",
    "    print(f\"   Overall Trend: {analysis['trend_direction']}\")\n",
    "    print(f\"   Growth Rate: {analysis['growth_rate']:.2f}% per day\")\n",
    "    print(f\"   Volatility: {analysis['volatility']:.2f}\")\n",
    "    print(f\"   Peak Day: {analysis['peak_date']} (${analysis['peak_value']:,.2f})\")\n",
    "    print(f\"   Average: ${analysis['average']:.2f}\")"
   ]
  },
  {
   "cell_type": "code",
   "execution_count": null,
   "metadata": {},
   "outputs": [],
   "source": [
    "# Visualize trends\n",
    "fig = forecaster.visualize_trends(ts_data)\n",
    "fig.update_layout(\n",
    "    title='Daily Sales Trends and Patterns',\n",
    "    height=600\n",
    ")\n",
    "fig.show()"
   ]
  },
  {
   "cell_type": "markdown",
   "metadata": {},
   "source": [
    "## 3. Build and Compare Forecasting Models"
   ]
  },
  {
   "cell_type": "code",
   "execution_count": null,
   "metadata": {},
   "outputs": [],
   "source": [
    "# Compare model accuracy\n",
    "accuracy_results = forecaster.compare_model_accuracy(ts_data)\n",
    "\n",
    "print(\"=== MODEL ACCURACY COMPARISON ===\")\n",
    "accuracy_df = pd.DataFrame(accuracy_results).T\n",
    "accuracy_df = accuracy_df.round(4)\n",
    "print(accuracy_df)\n",
    "\n",
    "# Find best model\n",
    "best_model = accuracy_df['MAPE'].idxmin()\n",
    "print(f\"\\n🏆 Best performing model: {best_model} (MAPE: {accuracy_df.loc[best_model, 'MAPE']:.4f})\")"
   ]
  },
  {
   "cell_type": "code",
   "execution_count": null,
   "metadata": {},
   "outputs": [],
   "source": [
    "# Generate forecasts\n",
    "forecast_results = forecaster.forecast_demand(ts_data, periods=30)\n",
    "\n",
    "print(\"=== FORECAST RESULTS ===\")\n",
    "print(f\"Forecast period: {forecast_results['forecast_period']} days\")\n",
    "print(f\"Model used: {forecast_results['model_used']}\")\n",
    "print(f\"Forecast accuracy (MAPE): {forecast_results['accuracy']['MAPE']:.4f}\")\n",
    "\n",
    "# Show forecast summary\n",
    "forecast_df = forecast_results['forecast']\n",
    "print(f\"\\nForecast Summary:\")\n",
    "print(f\"Average daily forecast: ${forecast_df['yhat'].mean():,.2f}\")\n",
    "print(f\"Total 30-day forecast: ${forecast_df['yhat'].sum():,.2f}\")\n",
    "print(f\"Highest forecast day: ${forecast_df['yhat'].max():,.2f}\")\n",
    "print(f\"Lowest forecast day: ${forecast_df['yhat'].min():,.2f}\")"
   ]
  },
  {
   "cell_type": "markdown",
   "metadata": {},
   "source": [
    "## 4. Visualize Forecasts"
   ]
  },
  {
   "cell_type": "code",
   "execution_count": null,
   "metadata": {},
   "outputs": [],
   "source": [
    "# Visualize forecast\n",
    "fig = forecaster.visualize_forecast(forecast_results, ts_data)\n",
    "fig.update_layout(\n",
    "    title='30-Day Demand Forecast',\n",
    "    height=500\n",
    ")\n",
    "fig.show()"
   ]
  },
  {
   "cell_type": "markdown",
   "metadata": {},
   "source": [
    "## 5. Business Insights"
   ]
  },
  {
   "cell_type": "code",
   "execution_count": null,
   "metadata": {},
   "outputs": [],
   "source": [
    "# Generate business insights\n",
    "insights = forecaster.generate_insights(forecast_results, ts_data)\n",
    "\n",
    "print(\"\\n=== BUSINESS INSIGHTS ===\")\n",
    "for insight in insights:\n",
    "    print(f\"• {insight}\")"
   ]
  },
  {
   "cell_type": "markdown",
   "metadata": {},
   "source": [
    "## 6. Category-wise Forecasting"
   ]
  },
  {
   "cell_type": "code",
   "execution_count": null,
   "metadata": {},
   "outputs": [],
   "source": [
    "# Category-wise forecasting\n",
    "print(\"\\n=== CATEGORY-WISE FORECASTING ===\")\n",
    "\n",
    "category_forecasts = {}\n",
    "\n",
    "for category in df['category'].unique():\n",
    "    print(f\"\\nForecasting for {category}...\")\n",
    "    \n",
    "    # Filter data for category\n",
    "    category_data = df[df['category'] == category]\n",
    "    category_daily = category_data.groupby('date')['total_amount'].sum().reset_index()\n",
    "    category_daily.columns = ['ds', 'y']\n",
    "    \n",
    "    if len(category_daily) >= 30:  # Only forecast if enough data\n",
    "        category_forecast = forecaster.forecast_demand(category_daily, periods=30)\n",
    "        category_forecasts[category] = category_forecast\n",
    "        \n",
    "        # Show category insights\n",
    "        category_insights = forecaster.generate_insights(category_forecast, category_daily)\n",
    "        for insight in category_insights[:2]:  # Show top 2 insights\n",
    "            print(f\"  • {insight}\")\n",
    "    else:\n",
    "        print(f\"  • Insufficient data for {category} (only {len(category_daily)} days)\")"
   ]
  },
  {
   "cell_type": "markdown",
   "metadata": {},
   "source": [
    "## 7. Save Results"
   ]
  },
  {
   "cell_type": "code",
   "execution_count": null,
   "metadata": {},
   "outputs": [],
   "source": [
    "# Save forecast results\n",
    "forecast_results['forecast'].to_csv('../data/demand_forecast.csv', index=False)\n",
    "\n",
    "# Save category forecasts\n",
    "if category_forecasts:\n",
    "    for category, forecast in category_forecasts.items():\n",
    "        filename = f\"../data/forecast_{category.lower().replace(' ', '_')}.csv\"\n",
    "        forecast['forecast'].to_csv(filename, index=False)\n",
    "\n",
    "print(\"✅ Forecast results saved to data/ directory\")"
   ]
  }
 ],
 "metadata": {
  "kernelspec": {
   "display_name": "Python 3",
   "language": "python",
   "name": "python3"
  },
  "language_info": {
   "codemirror_mode": {
    "name": "ipython",
    "version": 3
   },
   "file_extension": ".py",
   "mimetype": "text/x-python",
   "name": "python",
   "nbconvert_exporter": "python",
   "pygments_lexer": "ipython3",
   "version": "3.8.5"
  }
 },
 "nbformat": 4,
 "nbformat_minor": 4
}