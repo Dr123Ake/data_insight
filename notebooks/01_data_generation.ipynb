{
 "cells": [
  {
   "cell_type": "markdown",
   "metadata": {},
   "source": [
    "# Data Generation and Exploration\n",
    "\n",
    "This notebook demonstrates the generation of synthetic consumer goods sales data for analytics.\n",
    "\n",
    "## Objectives\n",
    "- Generate realistic synthetic sales data\n",
    "- Explore data characteristics\n",
    "- Prepare data for segmentation and forecasting analysis"
   ]
  },
  {
   "cell_type": "code",
   "execution_count": null,
   "metadata": {},
   "outputs": [],
   "source": [
    "import pandas as pd\n",
    "import numpy as np\n",
    "import matplotlib.pyplot as plt\n",
    "import seaborn as sns\n",
    "import plotly.express as px\n",
    "import plotly.graph_objects as go\n",
    "from plotly.subplots import make_subplots\n",
    "import sys\n",
    "import os\n",
    "\n",
    "# Add src directory to path\n",
    "sys.path.append('../src')\n",
    "\n",
    "from data_generator import generate_synthetic_data, calculate_rfm_features\n",
    "\n",
    "# Set style\n",
    "plt.style.use('seaborn-v0_8')\n",
    "sns.set_palette('husl')\n",
    "\n",
    "# Display settings\n",
    "pd.set_option('display.max_columns', None)\n",
    "pd.set_option('display.width', None)"
   ]
  },
  {
   "cell_type": "markdown",
   "metadata": {},
   "source": [
    "## 1. Generate Synthetic Data"
   ]
  },
  {
   "cell_type": "code",
   "execution_count": null,
   "metadata": {},
   "outputs": [],
   "source": [
    "# Generate synthetic consumer goods data\n",
    "print(\"Generating synthetic data...\")\n",
    "data = generate_synthetic_data(n_customers=1000, n_transactions=5000)\n",
    "\n",
    "print(f\"Generated {len(data)} transactions for {data['customer_id'].nunique()} customers\")\n",
    "print(f\"Date range: {data['transaction_date'].min()} to {data['transaction_date'].max()}\")\n",
    "\n",
    "# Display basic info\n",
    "data.info()"
   ]
  },
  {
   "cell_type": "code",
   "execution_count": null,
   "metadata": {},
   "outputs": [],
   "source": [
    "# Display sample data\n",
    "print(\"Sample transaction data:\")\n",
    "data.head(10)"
   ]
  },
  {
   "cell_type": "markdown",
   "metadata": {},
   "source": [
    "## 2. Data Exploration"
   ]
  },
  {
   "cell_type": "code",
   "execution_count": null,
   "metadata": {},
   "outputs": [],
   "source": [
    "# Basic statistics\n",
    "print(\"=== BASIC STATISTICS ===\")\n",
    "print(f\"Total Revenue: ${data['total_amount'].sum():,.2f}\")\n",
    "print(f\"Average Order Value: ${data['total_amount'].mean():.2f}\")\n",
    "print(f\"Total Customers: {data['customer_id'].nunique():,}\")\n",
    "print(f\"Total Transactions: {len(data):,}\")\n",
    "print(f\"Average Transactions per Customer: {len(data) / data['customer_id'].nunique():.1f}\")\n",
    "\n",
    "# Category breakdown\n",
    "print(\"\\n=== CATEGORY BREAKDOWN ===\")\n",
    "category_stats = data.groupby('category').agg({",
    "    'total_amount': ['sum', 'mean', 'count'],",
    "    'quantity': 'sum'",
    "}).round(2)",
    "",
    "category_stats.columns = ['Total_Revenue', 'Avg_Order_Value', 'Transactions', 'Total_Quantity']",
    "print(category_stats)"
   ]
  },
  {
   "cell_type": "markdown",
   "metadata": {},
   "source": [
    "## 3. Save Data\n",
    "\n",
    "Let's save the generated data for use in other notebooks."
   ]
  },
  {
   "cell_type": "code",
   "execution_count": null,
   "metadata": {},
   "outputs": [],
   "source": [
    "# Calculate RFM features\n",
    "rfm_data = calculate_rfm_features(data)\n",
    "\n",
    "# Create data directory if it doesn't exist\n",
    "os.makedirs('../data', exist_ok=True)\n",
    "\n",
    "# Save datasets\n",
    "data.to_csv('../data/synthetic_data.csv', index=False)\n",
    "rfm_data.to_csv('../data/processed_data.csv', index=False)\n",
    "\n",
    "print(\"✅ Data saved successfully!\")\n",
    "print(f\"📁 Synthetic data: ../data/synthetic_data.csv ({len(data)} rows)\")\n",
    "print(f\"📁 Processed data: ../data/processed_data.csv ({len(rfm_data)} rows)\")"
   ]
  },
  {
   "cell_type": "markdown",
   "metadata": {},
   "source": [
    "## Summary\n",
    "\n",
    "This notebook successfully:\n",
    "\n",
    "1. **Generated synthetic data** with realistic consumer goods sales patterns\n",
    "2. **Explored data characteristics** including revenue, customer demographics, and sales patterns\n",
    "3. **Calculated RFM features** for customer segmentation analysis\n",
    "4. **Saved processed data** for use in subsequent analysis\n",
    "\n",
    "**Next Steps**: \n",
    "- Proceed to customer segmentation analysis\n",
    "- Develop demand forecasting models\n",
    "- Build interactive dashboard"
   ]
  }
 ],
 "metadata": {
  "kernelspec": {
   "display_name": "Python 3",
   "language": "python",
   "name": "python3"
  },
  "language_info": {
   "codemirror_mode": {
    "name": "ipython",
    "version": 3
   },
   "file_extension": ".py",
   "mimetype": "text/x-python",
   "name": "python",
   "nbconvert_exporter": "python",
   "pygments_lexer": "ipython3",
   "version": "3.8.0"
  }
 },
 "nbformat": 4,
 "nbformat_minor": 4
}