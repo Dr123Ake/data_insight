{
 "cells": [
  {
   "cell_type": "markdown",
   "metadata": {},
   "source": [
    "# Customer Segmentation Analysis\n",
    "\n",
    "This notebook performs RFM-based customer segmentation using K-means clustering.\n",
    "\n",
    "## Objectives\n",
    "- Load processed customer data\n",
    "- Perform RFM analysis and customer segmentation\n",
    "- Analyze segment characteristics\n",
    "- Generate actionable business insights"
   ]
  },
  {
   "cell_type": "code",
   "execution_count": null,
   "metadata": {},
   "outputs": [],
   "source": [
    "import pandas as pd\n",
    "import numpy as np\n",
    "import matplotlib.pyplot as plt\n",
    "import seaborn as sns\n",
    "import plotly.express as px\n",
    "import plotly.graph_objects as go\n",
    "from plotly.subplots import make_subplots\n",
    "import sys\n",
    "import os\n",
    "\n",
    "# Add src directory to path\n",
    "sys.path.append('../src')\n",
    "\n",
    "from segmentation import CustomerSegmentation\n",
    "\n",
    "# Set style\n",
    "plt.style.use('seaborn-v0_8')\n",
    "sns.set_palette('husl')\n",
    "\n",
    "# Display settings\n",
    "pd.set_option('display.max_columns', None)"
   ]
  },
  {
   "cell_type": "markdown",
   "metadata": {},
   "source": [
    "## 1. Load Data"
   ]
  },
  {
   "cell_type": "code",
   "execution_count": null,
   "metadata": {},
   "outputs": [],
   "source": [
    "# Load processed data\n",
    "try:\n",
    "    data = pd.read_csv('../data/processed_data.csv')\n",
    "    print(f\"✅ Loaded {len(data)} customer records\")\n",
    "    print(f\"Columns: {list(data.columns)}\")\n",
    "except FileNotFoundError:\n",
    "    print(\"❌ Data file not found. Please run notebook 01 first.\")\n",
    "    raise\n",
    "\n",
    "# Display basic info\n",
    "print(\"\\nData Overview:\")\n",
    "data.info()\n",
    "print(\"\\nFirst 5 rows:\")\n",
    "data.head()"
   ]
  },
  {
   "cell_type": "markdown",
   "metadata": {},
   "source": [
    "## 2. RFM Analysis"
   ]
  },
  {
   "cell_type": "code",
   "execution_count": null,
   "metadata": {},
   "outputs": [],
   "source": [
    "# Initialize segmentation model\n",
    "segmentation = CustomerSegmentation()\n",
    "\n",
    "# Prepare features for clustering\n",
    "features = segmentation.prepare_features(data)\n",
    "\n",
    "print(f\"Prepared features for {len(features)} customers\")\n",
    "print(f\"Feature columns: {list(features.columns)}\")\n",
    "\n",
    "# Display RFM statistics\n",
    "print(\"\\nRFM Statistics:\")\n",
    "features[['recency', 'frequency', 'monetary']].describe()"
   ]
  },
  {
   "cell_type": "code",
   "execution_count": null,
   "metadata": {},
   "outputs": [],
   "source": [
    "# Visualize RFM distributions\n",
    "fig = make_subplots(\n",
    "    rows=2, cols=2,\n",
    "    subplot_titles=('Recency Distribution', 'Frequency Distribution', \n",
    "                   'Monetary Distribution', 'RFM Correlations')\n",
    ")\n",
    "\n",
    "# Recency\n",
    "fig.add_trace(\n",
    "    go.Histogram(x=features['recency'], nbinsx=25, name=\"Recency\"),\n",
    "    row=1, col=1\n",
    ")\n",
    "\n",
    "# Frequency\n",
    "fig.add_trace(\n",
    "    go.Histogram(x=features['frequency'], nbinsx=20, name=\"Frequency\"),\n",
    "    row=1, col=2\n",
    ")\n",
    "\n",
    "# Monetary\n",
    "fig.add_trace(\n",
    "    go.Histogram(x=features['monetary'], nbinsx=25, name=\"Monetary\"),\n",
    "    row=2, col=1\n",
    ")\n",
    "\n",
    "# Correlation heatmap\n",
    "corr_matrix = features[['recency', 'frequency', 'monetary']].corr()\n",
    "fig.add_trace(\n",
    "    go.Heatmap(z=corr_matrix.values, x=corr_matrix.columns, y=corr_matrix.index, \n",
    "              colorscale='RdBu', name=\"Correlation\"),\n",
    "    row=2, col=2\n",
    ")\n",
    "\n",
    "fig.update_layout(height=600, title_text=\"RFM Analysis Overview\", showlegend=False)\n",
    "fig.show()"
   ]
  },
  {
   "cell_type": "markdown",
   "metadata": {},
   "source": [
    "## 3. Determine Optimal Number of Clusters"
   ]
  },
  {
   "cell_type": "code",
   "execution_count": null,
   "metadata": {},
   "outputs": [],
   "source": [
# Find optimal number of clusters\noptimal_k, elbow_scores = segmentation.find_optimal_clusters(features)\n\nprint(f\"Optimal number of clusters: {optimal_k}\")\n\n# Plot elbow curve\nfig = go.Figure()\nfig.add_trace(go.Scatter(\n    x=list(range(2, len(elbow_scores) + 2)),\n    y=elbow_scores,\n    mode='lines+markers',\n    name='Inertia',\n    line=dict(width=3),\n    marker=dict(size=8)\n))\n\n# Highlight optimal k\nfig.add_vline(x=optimal_k, line_dash=\"dash\", line_color=\"red\", \n              annotation_text=f\"Optimal K = {optimal_k}\")\n\nfig.update_layout(\n    title='Elbow Method for Optimal K',\n    xaxis_title='Number of Clusters (K)',\n    yaxis_title='Inertia',\n    height=400\n)\nfig.show()
   ]
  },
  {
   "cell_type": "markdown",
   "metadata": {},
   "source": [
    "## 4. Perform Customer Segmentation"
   ]
  },
  {
   "cell_type": "code",
   "execution_count": null,
   "metadata": {},
   "outputs": [],
   "source": [
    "# Perform clustering\n",
    "clustered_data = segmentation.perform_clustering(features, n_clusters=optimal_k)\n",
    "\n",
    "print(f\"Segmentation completed with {optimal_k} clusters\")\n",
    "print(f\"Cluster distribution:\")\n",
    "print(clustered_data['cluster'].value_counts().sort_index())\n",
    "\n",
    "# Display sample of clustered data\n",
    "clustered_data.head()"
   ]
  },
  {
   "cell_type": "markdown",
   "metadata": {},
   "source": [
    "## 5. Analyze Customer Segments"
   ]
  },
  {
   "cell_type": "code",
   "execution_count": null,
   "metadata": {},
   "outputs": [],
   "source": [
    "# Analyze segments\n",
    "segment_analysis = segmentation.analyze_segments(clustered_data)\n",
    "\n",
    "print(\"=== SEGMENT ANALYSIS ===")\n",
    "for cluster_id, analysis in segment_analysis.items():\n",
    "    print(f\"\\n🎯 {analysis['name']} (Cluster {cluster_id})\")\n",
    "    print(f\"   Size: {analysis['size']} customers ({analysis['percentage']:.1f}%)\")\n",
    "    print(f\"   Avg Recency: {analysis['avg_recency']:.1f} days\")\n",
    "    print(f\"   Avg Frequency: {analysis['avg_frequency']:.1f} transactions\")\n",
    "    print(f\"   Avg Monetary: ${analysis['avg_monetary']:.2f}\")\n",
    "    print(f\"   Description: {analysis['description']}\")\n",
    "    print(f\"   Strategy: {analysis['strategy']}\")\n",
    "    print(\"-\" * 60)"
   ]
  },
  {
   "cell_type": "code",
   "execution_count": null,
   "metadata": {},
   "outputs": [],
   "source": [
    "# Create segment summary table\n",
    "segment_summary = []\n",
    "for cluster_id, analysis in segment_analysis.items():\n",
    "    segment_summary.append({\n",
    "        'Cluster': cluster_id,\n",
    "        'Segment_Name': analysis['name'],\n",
    "        'Size': analysis['size'],\n",
    "        'Percentage': f\"{analysis['percentage']:.1f}%\",\n",
    "        'Avg_Recency': f\"{analysis['avg_recency']:.1f}\",\n",
    "        'Avg_Frequency': f\"{analysis['avg_frequency']:.1f}\",\n",
    "        'Avg_Monetary': f\"${analysis['avg_monetary']:.2f}\"\n",
    "    })\n",
    "\n",
    "segment_df = pd.DataFrame(segment_summary)\n",
    "print(\"\\nSegment Summary Table:\")\n",
    "segment_df"
   ]
  },
  {
   "cell_type": "markdown",
   "metadata": {},
   "source": [
    "## 6. Visualize Customer Segments"
   ]
  },
  {
   "cell_type": "code",
   "execution_count": null,
   "metadata": {},
   "outputs": [],
   "source": [
    "# Create comprehensive segment visualization\n",
    "segment_viz = segmentation.visualize_segments(clustered_data)\n",
    "segment_viz.show()"
   ]
  },
  {
   "cell_type": "code",
   "execution_count": null,
   "metadata": {},
   "outputs": [],
   "source": [
    "# 3D scatter plot of RFM segments\n",
    "fig = go.Figure(data=go.Scatter3d(\n",
    "    x=clustered_data['recency'],\n",
    "    y=clustered_data['frequency'],\n",
    "    z=clustered_data['monetary'],\n",
    "    mode='markers',\n",
    "    marker=dict(\n",
    "        size=5,\n",
    "        color=clustered_data['cluster'],\n",
    "        colorscale='viridis',\n",
    "        showscale=True,\n",
    "        colorbar=dict(title=\"Cluster\")\n",
    "    ),\n",
    "    text=[f\"Customer {i}<br>Cluster: {c}\" for i, c in zip(clustered_data['customer_id'], clustered_data['cluster'])],\n",
    "    hovertemplate='<b>%{text}</b><br>Recency: %{x}<br>Frequency: %{y}<br>Monetary: $%{z}<extra></extra>'\n",
    "))\n",
    "\n",
    "fig.update_layout(\n",
    "    title='3D RFM Customer Segmentation',\n",
    "    scene=dict(\n",
    "        xaxis_title='Recency (days)',\n",
    "        yaxis_title='Frequency (transactions)',\n",
    "        zaxis_title='Monetary ($)'\n",
    "    ),\n",
    "    height=600\n",
    ")\n",
    "fig.show()"
   ]
  },
  {
   "cell_type": "markdown",
   "metadata": {},
   "source": [
    "## 7. Business Insights and Recommendations"
   ]
  },
  {
   "cell_type": "code",
   "execution_count": null,
   "metadata": {},
   "outputs": [],
   "source": [
    "# Calculate business metrics by segment\n",
    "business_metrics = clustered_data.groupby('cluster').agg({\n",
    "    'customer_id': 'count',\n",
    "    'monetary': ['sum', 'mean'],\n",
    "    'frequency': 'mean',\n",
    "    'recency': 'mean'\n",
    "}).round(2)\n",
    "\n",
    "business_metrics.columns = ['Customer_Count', 'Total_Revenue', 'Avg_Revenue_Per_Customer', \n",
    "                           'Avg_Purchase_Frequency', 'Avg_Days_Since_Last_Purchase']\n",
    "\n",
    "# Calculate revenue contribution\n",
    "total_revenue = business_metrics['Total_Revenue'].sum()\n",
    "business_metrics['Revenue_Contribution_%'] = (business_metrics['Total_Revenue'] / total_revenue * 100).round(1)\n",
    "\n",
    "print(\"=== BUSINESS METRICS BY SEGMENT ===")\n",
    "business_metrics"
   ]
  },
  {
   "cell_type": "code",
   "execution_count": null,
   "metadata": {},
   "outputs": [],
   "source": [
# Revenue contribution visualization\nfig = make_subplots(\n    rows=2, cols=2,\n    subplot_titles=('Revenue by Segment', 'Customer Count by Segment',\n                   'Average Revenue per Customer', 'Purchase Frequency by Segment'),\n    specs=[[{\"type\": \"pie\"}, {\"type\": \"bar\"}],\n           [{\"type\": \"bar\"}, {\"type\": \"bar\"}]]\n)\n\n# Revenue pie chart\nsegment_names = [segment_analysis[i]['name'] for i in business_metrics.index]\nfig.add_trace(\n    go.Pie(labels=segment_names, values=business_metrics['Total_Revenue'], name=\"Revenue\"),\n    row=1, col=1\n)\n\n# Customer count\nfig.add_trace(\n    go.Bar(x=segment_names, y=business_metrics['Customer_Count'], name=\"Customers\"),\n    row=1, col=2\n)\n\n# Average revenue per customer\nfig.add_trace(\n    go.Bar(x=segment_names, y=business_metrics['Avg_Revenue_Per_Customer'], name=\"Avg Revenue\"),\n    row=2, col=1\n)\n\n# Purchase frequency\nfig.add_trace(\n    go.Bar(x=segment_names, y=business_metrics['Avg_Purchase_Frequency'], name=\"Frequency\"),\n    row=2, col=2\n)\n\nfig.update_layout(height=600, title_text=\"Business Metrics by Customer Segment\", showlegend=False)\nfig.show()
   ]
  },
  {
   "cell_type": "markdown",
   "metadata": {},
   "source": [
    "## 8. Save Segmentation Results"
   ]
  },
  {
   "cell_type": "code",
   "execution_count": null,
   "metadata": {},
   "outputs": [],
   "source": [
    "# Add segment names to the data\n",
    "clustered_data['segment_name'] = clustered_data['cluster'].map(\n",
    "    {i: analysis['name'] for i, analysis in segment_analysis.items()}\n",
    ")\n",
    "\n",
    "# Save segmented data\n",
    "clustered_data.to_csv('../data/segmented_customers.csv', index=False)\n",
    "\n",
    "# Save segment summary\n",
    "segment_df.to_csv('../data/segment_summary.csv', index=False)\n",
    "\n",
    "print(\"✅ Segmentation results saved successfully!\")\n",
    "print(f\"📁 Segmented customers: ../data/segmented_customers.csv ({len(clustered_data)} rows)\")\n",
    "print(f\"📁 Segment summary: ../data/segment_summary.csv ({len(segment_df)} rows)\")"
   ]
  },
  {
   "cell_type": "markdown",
   "metadata": {},
   "source": [
    "## Summary\n",
    "\n",
    "This notebook successfully:\n",
    "\n",
    "1. **Loaded and analyzed RFM data** for customer segmentation\n",
    "2. **Determined optimal cluster number** using the elbow method\n",
    "3. **Performed K-means clustering** to segment customers\n",
    "4. **Analyzed segment characteristics** and business value\n",
    "5. **Generated actionable insights** for marketing strategies\n",
    "6. **Saved segmentation results** for dashboard integration\n",
    "\n",
    "### Key Findings:\n",
    "- Identified distinct customer segments with different value propositions\n",
    "- Quantified revenue contribution by segment\n",
    "- Provided targeted marketing strategies for each segment\n",
    "\n",
    "**Next Steps**: Proceed to demand forecasting analysis in notebook 03."
   ]
  }
 ],
 "metadata": {
  "kernelspec": {
   "display_name": "Python 3",
   "language": "python",
   "name": "python3"
  },
  "language_info": {
   "codemirror_mode": {
    "name": "ipython",
    "version": 3
   },
   "file_extension": ".py",
   "mimetype": "text/x-python",
   "name": "python",
   "nbconvert_exporter": "python",
   "version": "3.8.0"
  }
 },
 "nbformat": 4,
 "nbformat_minor": 4
}